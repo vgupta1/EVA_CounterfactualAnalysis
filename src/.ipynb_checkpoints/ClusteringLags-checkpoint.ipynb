{
 "cells": [
  {
   "cell_type": "code",
   "execution_count": 59,
   "metadata": {},
   "outputs": [],
   "source": [
    "using JuMP, DelimitedFiles, Cbc, Plots\n",
    "pyplot()"
   ]
  },
  {
   "cell_type": "code",
   "execution_count": 58,
   "metadata": {},
   "outputs": [],
   "source": [
    "## read in the file \n",
    "dat = readdlm(\"../OtherData/country_lag_auc_profile.csv\", ',', '\\n', skipstart=1) ##@WARNING:  Code implicity assumes ordered by country\n",
    "\n",
    "#for now, drop any country that has blanks\n",
    "filt = dat[:, 4] .!= \"\"\n",
    "dat = dat[filt, :]\n",
    "\n",
    "filt = dat[:, 4] .> .5\n",
    "dat = dat[filt, :]\n",
    "\n",
    "countries = unique(dat[:, 2])\n",
    "lags_filt = unique(dat[:, 3]);"
   ]
  },
  {
   "cell_type": "code",
   "execution_count": 7,
   "metadata": {},
   "outputs": [
    {
     "data": {
      "text/plain": [
       "0.5172413793103448"
      ]
     },
     "execution_count": 7,
     "metadata": {},
     "output_type": "execute_result"
    }
   ],
   "source": [
    "out = zeros(length(countries))\n",
    "for ix = 1:length(countries)\n",
    "    filt = dat[:, 2] .== countries[ix]\n",
    "    out[ix] = maximum(dat[filt, 4])\n",
    "end\n",
    "minimum(out)"
   ]
  },
  {
   "cell_type": "code",
   "execution_count": 48,
   "metadata": {},
   "outputs": [
    {
     "data": {
      "text/plain": [
       "computeTypes (generic function with 1 method)"
      ]
     },
     "execution_count": 48,
     "metadata": {},
     "output_type": "execute_result"
    }
   ],
   "source": [
    "function computeTypes( numTypes )\n",
    "    m = Model( Cbc.Optimizer )\n",
    "    set_optimizer_attribute(m, \"logLevel\", 0)\n",
    "    @variable(m, z[1:size(dat, 1)], Bin)\n",
    "    @variable(m, isLagUsed[lags_filt], Bin)\n",
    "\n",
    "    for ix = 1:size(dat, 1)\n",
    "        @constraint(m,  isLagUsed[dat[ix, 3]] >= z[ix]  )  #if country uses lag, must count as a new type\n",
    "    end\n",
    "    @constraint(m, sum(isLagUsed) <= numTypes)\n",
    "\n",
    "\n",
    "    #every coutnry must be assigned a lag\n",
    "    for icountry in countries\n",
    "        filt = dat[:, 2] .== icountry\n",
    "        @constraint(m, sum(z[filt]) == 1)  #every country must be assigned\n",
    "    end\n",
    "\n",
    "    @objective(m, Max, sum( z[i] * dat[i, 4] for i = 1:size(dat, 1)));\n",
    "    optimize!(m)\n",
    "    status = termination_status(m)\n",
    "    if result_count(m) > 0  ##Hacky way to check if infeasible.\n",
    "        return (status, getobjectivevalue(m), value.(z))\n",
    "    end\n",
    "    return (status, Inf, zeros(size(dat, 1)))\n",
    "end\n"
   ]
  },
  {
   "cell_type": "code",
   "execution_count": 51,
   "metadata": {},
   "outputs": [
    {
     "data": {
      "text/plain": [
       "10-element Array{Float64,1}:\n",
       " Inf\n",
       " Inf\n",
       " 38.176670951149475\n",
       " 39.26795691051983\n",
       " 39.586689547279036\n",
       " 39.78924424019804\n",
       " 39.93292222335615\n",
       " 40.06593832346979\n",
       " 40.16836347001258\n",
       " 40.27316127793572"
      ]
     },
     "execution_count": 51,
     "metadata": {},
     "output_type": "execute_result"
    }
   ],
   "source": [
    "num_grid = 1:10\n",
    "out = zeros(10)\n",
    "for i = num_grid\n",
    "    (status, val, sol) = computeTypes(i)\n",
    "    out[i] = val\n",
    "end\n",
    "out"
   ]
  },
  {
   "cell_type": "code",
   "execution_count": 56,
   "metadata": {},
   "outputs": [
    {
     "data": {
      "image/png": "[encoded data removed]"
     },
     "execution_count": 56,
     "metadata": {},
     "output_type": "execute_result"
    }
   ],
   "source": [
    "#Identify Elbow by hand and resolve once more. \n",
    "plot(out, marker = :circ)"
   ]
  },
  {
   "cell_type": "code",
   "execution_count": 57,
   "metadata": {},
   "outputs": [
    {
     "data": {
      "text/plain": [
       "(MathOptInterface.OPTIMAL, 38.176670951149475, [1.0, 0.0, 0.0, 0.0, 0.0, 0.0, 0.0, 0.0, 0.0, 0.0  …  0.0, 0.0, 0.0, 0.0, 0.0, 0.0, 0.0, 0.0, 1.0, 1.0])"
      ]
     },
     "execution_count": 57,
     "metadata": {},
     "output_type": "execute_result"
    }
   ],
   "source": [
    "status, val, sol = computeTypes(3)"
   ]
  },
  {
   "cell_type": "code",
   "execution_count": 12,
   "metadata": {},
   "outputs": [
    {
     "name": "stderr",
     "output_type": "stream",
     "text": [
      "┌ Warning: `writecsv(io, a; opts...)` is deprecated, use `writedlm(io, a, ','; opts...)` instead.\n",
      "│   caller = top-level scope at In[12]:1\n",
      "└ @ Core In[12]:1\n"
     ]
    }
   ],
   "source": [
    "res = dat[sol .== 1, :]\n",
    "\n",
    "writecsv(\"../LagAnalysisOutputs/auc_clustering.csv\", res)\n",
    "writecsv(\"../LagAnalysisOutputs/elbow_curve_clustering.csv\", out)"
   ]
  }
 ],
 "metadata": {
  "kernelspec": {
   "display_name": "Julia 1.5.3",
   "language": "julia",
   "name": "julia-1.5"
  },
  "language_info": {
   "file_extension": ".jl",
   "mimetype": "application/julia",
   "name": "julia",
   "version": "1.5.3"
  }
 },
 "nbformat": 4,
 "nbformat_minor": 1
}
