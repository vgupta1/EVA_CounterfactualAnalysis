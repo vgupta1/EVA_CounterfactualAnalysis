{
 "cells": [
  {
   "cell_type": "code",
   "execution_count": 1,
   "metadata": {},
   "outputs": [
    {
     "name": "stderr",
     "output_type": "stream",
     "text": [
      "┌ Info: Precompiling JuMP [4076af6c-e467-56ae-b986-b466b2749572]\n",
      "└ @ Base loading.jl:1278\n"
     ]
    },
    {
     "ename": "LoadError",
     "evalue": "ArgumentError: Package Cbc not found in current path:\n- Run `import Pkg; Pkg.add(\"Cbc\")` to install the Cbc package.\n",
     "output_type": "error",
     "traceback": [
      "ArgumentError: Package Cbc not found in current path:\n- Run `import Pkg; Pkg.add(\"Cbc\")` to install the Cbc package.\n",
      "",
      "Stacktrace:",
      " [1] require(::Module, ::Symbol) at ./loading.jl:893",
      " [2] include_string(::Function, ::Module, ::String, ::String) at ./loading.jl:1091"
     ]
    }
   ],
   "source": [
    "using JuMP, DelimitedFiles, Cbc"
   ]
  },
  {
   "cell_type": "code",
   "execution_count": 2,
   "metadata": {},
   "outputs": [
    {
     "ename": "LoadError",
     "evalue": "ArgumentError: Package PyPlot not found in current path:\n- Run `import Pkg; Pkg.add(\"PyPlot\")` to install the PyPlot package.\n",
     "output_type": "error",
     "traceback": [
      "ArgumentError: Package PyPlot not found in current path:\n- Run `import Pkg; Pkg.add(\"PyPlot\")` to install the PyPlot package.\n",
      "",
      "Stacktrace:",
      " [1] require(::Module, ::Symbol) at ./loading.jl:893",
      " [2] top-level scope at /Users/vishalgupta/.julia/packages/Plots/KN96c/src/backends.jl:505",
      " [3] eval at ./boot.jl:331 [inlined]",
      " [4] _initialize_backend(::Plots.PyPlotBackend) at /Users/vishalgupta/.julia/packages/Plots/KN96c/src/backends.jl:504",
      " [5] backend at /Users/vishalgupta/.julia/packages/Plots/KN96c/src/backends.jl:174 [inlined]",
      " [6] pyplot(; kw::Base.Iterators.Pairs{Union{},Union{},Tuple{},NamedTuple{(),Tuple{}}}) at /Users/vishalgupta/.julia/packages/Plots/KN96c/src/backends.jl:31",
      " [7] pyplot() at /Users/vishalgupta/.julia/packages/Plots/KN96c/src/backends.jl:31",
      " [8] top-level scope at In[2]:2",
      " [9] include_string(::Function, ::Module, ::String, ::String) at ./loading.jl:1091"
     ]
    }
   ],
   "source": [
    "using Plots\n",
    "pyplot()"
   ]
  },
  {
   "cell_type": "code",
   "execution_count": 4,
   "metadata": {},
   "outputs": [
    {
     "data": {
      "text/plain": [
       "20-element Array{Any,1}:\n",
       "  0\n",
       "  1\n",
       "  2\n",
       "  3\n",
       "  4\n",
       "  5\n",
       "  6\n",
       "  7\n",
       "  8\n",
       "  9\n",
       " 10\n",
       " 11\n",
       " 12\n",
       " 13\n",
       " 14\n",
       " 15\n",
       " 16\n",
       " 17\n",
       " 18\n",
       " 19"
      ]
     },
     "execution_count": 4,
     "metadata": {},
     "output_type": "execute_result"
    }
   ],
   "source": [
    "## read in the file \n",
    "dat = readdlm(\"../new_auc3.csv\", ',', '\\n', skipstart=1) ##@WARNING:  Code implicity assumes ordered by country\n",
    "\n",
    "#for now, drop any country that has blanks\n",
    "filt = dat[:, 4] .!= \"\"\n",
    "dat = dat[filt, :]\n",
    "\n",
    "filt = dat[:, 4] .> .5\n",
    "dat = dat[filt, :]\n",
    "\n",
    "countries = unique(dat[:, 2])\n",
    "lags_filt = unique(dat[:, 3])"
   ]
  },
  {
   "cell_type": "code",
   "execution_count": 3,
   "metadata": {},
   "outputs": [
    {
     "ename": "LoadError",
     "evalue": "UndefVarError: countries not defined",
     "output_type": "error",
     "traceback": [
      "UndefVarError: countries not defined",
      "",
      "Stacktrace:",
      " [1] top-level scope at In[3]:1",
      " [2] include_string(::Function, ::Module, ::String, ::String) at ./loading.jl:1091"
     ]
    }
   ],
   "source": [
    "length(countries) * length(lags_filt), size(dat)"
   ]
  },
  {
   "cell_type": "code",
   "execution_count": 7,
   "metadata": {},
   "outputs": [
    {
     "name": "stderr",
     "output_type": "stream",
     "text": [
      "\u001b[32m\u001b[1m  Resolving\u001b[22m\u001b[39m package versions...\n",
      "\u001b[32m\u001b[1m  Installed\u001b[22m\u001b[39m PyPlot ─ v2.9.0\n",
      "\u001b[32m\u001b[1m  Installed\u001b[22m\u001b[39m PyCall ─ v1.92.3\n",
      "\u001b[32m\u001b[1mUpdating\u001b[22m\u001b[39m `~/.julia/environments/v1.5/Project.toml`\n",
      " \u001b[90m [d330b81b] \u001b[39m\u001b[92m+ PyPlot v2.9.0\u001b[39m\n",
      "\u001b[32m\u001b[1mUpdating\u001b[22m\u001b[39m `~/.julia/environments/v1.5/Manifest.toml`\n",
      " \u001b[90m [438e738f] \u001b[39m\u001b[92m+ PyCall v1.92.3\u001b[39m\n",
      " \u001b[90m [d330b81b] \u001b[39m\u001b[92m+ PyPlot v2.9.0\u001b[39m\n",
      "\u001b[32m\u001b[1m   Building\u001b[22m\u001b[39m PyCall → `~/.julia/packages/PyCall/BD546/deps/build.log`\n"
     ]
    }
   ],
   "source": [
    "#import Pkg\n",
    "Pkg.add(\"PyPlot\")"
   ]
  },
  {
   "cell_type": "code",
   "execution_count": 5,
   "metadata": {},
   "outputs": [
    {
     "data": {
      "text/plain": [
       "0.5138888888888888"
      ]
     },
     "execution_count": 5,
     "metadata": {},
     "output_type": "execute_result"
    }
   ],
   "source": [
    "out = zeros(length(countries))\n",
    "for ix = 1:length(countries)\n",
    "    filt = dat[:, 2] .== countries[ix]\n",
    "    out[ix] = maximum(dat[filt, 4])\n",
    "end\n",
    "minimum(out)"
   ]
  },
  {
   "cell_type": "code",
   "execution_count": 7,
   "metadata": {},
   "outputs": [
    {
     "data": {
      "text/plain": [
       "computeTypes (generic function with 1 method)"
      ]
     },
     "execution_count": 7,
     "metadata": {},
     "output_type": "execute_result"
    }
   ],
   "source": [
    "function computeTypes( numTypes )\n",
    "    m = Model(solver=CbcSolver() )\n",
    "    @variable(m, z[1:size(dat, 1)], Bin)\n",
    "    @variable(m, isLagUsed[lags_filt], Bin)\n",
    "\n",
    "    for ix = 1:size(dat, 1)\n",
    "        @constraint(m,  isLagUsed[dat[ix, 3]] >= z[ix]  )  #if country uses lag, must count as a new type\n",
    "    end\n",
    "    @constraint(m, sum(isLagUsed) <= numTypes)\n",
    "\n",
    "\n",
    "    #every coutnry must be assigned a lag\n",
    "    for icountry in countries\n",
    "        filt = dat[:, 2] .== icountry\n",
    "        @constraint(m, sum(z[filt]) == 1)  #every country must be assigned\n",
    "    end\n",
    "\n",
    "    @objective(m, Max, sum( z[i] * dat[i, 4] for i = 1:size(dat, 1)));\n",
    "    status = solve(m)\n",
    "\n",
    "        return (status, getobjectivevalue(m), getvalue(z))\n",
    "end\n"
   ]
  },
  {
   "cell_type": "code",
   "execution_count": 8,
   "metadata": {},
   "outputs": [
    {
     "name": "stderr",
     "output_type": "stream",
     "text": [
      "┌ Warning: Not solved to optimality, status: Infeasible\n",
      "└ @ JuMP /Users/vishalgupta/.julia/packages/JuMP/I7whV/src/solvers.jl:212\n",
      "┌ Warning: Infeasibility ray (Farkas proof) not available\n",
      "└ @ JuMP /Users/vishalgupta/.julia/packages/JuMP/I7whV/src/solvers.jl:223\n"
     ]
    },
    {
     "name": "stdout",
     "output_type": "stream",
     "text": [
      "Infeasible\n"
     ]
    },
    {
     "name": "stderr",
     "output_type": "stream",
     "text": [
      "┌ Warning: Variable value not defined for component of z. Check that the model was properly solved.\n",
      "└ @ JuMP /Users/vishalgupta/.julia/packages/JuMP/I7whV/src/JuMP.jl:480\n"
     ]
    },
    {
     "name": "stdout",
     "output_type": "stream",
     "text": [
      "Optimal\n",
      "Optimal\n",
      "Optimal\n",
      "Optimal\n",
      "Optimal\n",
      "Optimal\n",
      "Optimal\n",
      "Optimal\n",
      "Optimal\n"
     ]
    },
    {
     "data": {
      "text/plain": [
       "10-element Array{Float64,1}:\n",
       " NaN                \n",
       "  17.071316323525025\n",
       "  18.221010573305808\n",
       "  18.51752198080512 \n",
       "  18.7119026673229  \n",
       "  18.835590091010324\n",
       "  18.98251167388539 \n",
       "  19.046525616931596\n",
       "  19.08498715539313 \n",
       "  19.11946991401382 "
      ]
     },
     "execution_count": 8,
     "metadata": {},
     "output_type": "execute_result"
    }
   ],
   "source": [
    "num_grid = 1:10\n",
    "out = zeros(10)\n",
    "for i = num_grid\n",
    "    (status, val, sol) = computeTypes(i)\n",
    "    out[i] = val\n",
    "    println(status)\n",
    "end\n",
    "out"
   ]
  },
  {
   "cell_type": "code",
   "execution_count": 38,
   "metadata": {},
   "outputs": [
    {
     "data": {
      "text/plain": [
       "(:Optimal, 18.221010573305808, [0.0, 1.0, 0.0, 0.0, 0.0, 0.0, 0.0, 0.0, 0.0, 1.0  …  0.0, 0.0, 0.0, 0.0, 0.0, 0.0, 0.0, 0.0, 0.0, 0.0])"
      ]
     },
     "execution_count": 38,
     "metadata": {},
     "output_type": "execute_result"
    }
   ],
   "source": [
    "status, val, sol = computeTypes(3)"
   ]
  },
  {
   "cell_type": "code",
   "execution_count": 12,
   "metadata": {},
   "outputs": [
    {
     "name": "stderr",
     "output_type": "stream",
     "text": [
      "┌ Warning: `writecsv(io, a; opts...)` is deprecated, use `writedlm(io, a, ','; opts...)` instead.\n",
      "│   caller = top-level scope at In[12]:1\n",
      "└ @ Core In[12]:1\n"
     ]
    }
   ],
   "source": [
    "res = dat[sol .== 1, :]\n",
    "\n",
    "writecsv(\"../Value_Public_Data_Outputs/auc_clustering.csv\", res)\n",
    "writecsv(\"../Value_Public_Data_Outputs/elbow_curve_clustering.csv\", out)\n",
    "\n",
    "#res[ res[:, 3] .== 3, :]\n"
   ]
  },
  {
   "cell_type": "code",
   "execution_count": 11,
   "metadata": {},
   "outputs": [
    {
     "data": {
      "image/png": "[encoded data removed]"
     },
     "execution_count": 11,
     "metadata": {},
     "output_type": "execute_result"
    },
    {
     "name": "stderr",
     "output_type": "stream",
     "text": [
      "'c' argument looks like a single numeric RGB or RGBA sequence, which should be avoided as value-mapping will have precedence in case its length matches with 'x' & 'y'.  Please use a 2-D array with a single row if you really want to specify the same RGB or RGBA value for all points.\n"
     ]
    }
   ],
   "source": [
    "plot(out, marker = :circ)"
   ]
  },
  {
   "cell_type": "code",
   "execution_count": null,
   "metadata": {},
   "outputs": [],
   "source": [
    "dat[ dat[:, 2] == \"FI\"]"
   ]
  }
 ],
 "metadata": {
  "kernelspec": {
   "display_name": "Python 3",
   "language": "python",
   "name": "python3"
  },
  "language_info": {
   "codemirror_mode": {
    "name": "ipython",
    "version": 3
   },
   "file_extension": ".py",
   "mimetype": "text/x-python",
   "name": "python",
   "nbconvert_exporter": "python",
   "pygments_lexer": "ipython3",
   "version": "3.8.5"
  }
 },
 "nbformat": 4,
 "nbformat_minor": 1
}
